{
 "cells": [
  {
   "cell_type": "code",
   "execution_count": 8,
   "metadata": {},
   "outputs": [
    {
     "name": "stdout",
     "output_type": "stream",
     "text": [
      "[0. 0. 0.]\n"
     ]
    }
   ],
   "source": [
    "import numpy as np # Imports the NumPy library\n",
    "\n",
    "a = np.zeros(3) # Makes a row vector 'a' of zeros\n",
    "print(a) # Displays vector 'a'\n"
   ]
  },
  {
   "cell_type": "code",
   "execution_count": 21,
   "metadata": {},
   "outputs": [
    {
     "name": "stdout",
     "output_type": "stream",
     "text": [
      "[1. 2. 3. 4.]\n",
      "2.0\n",
      "2\n"
     ]
    }
   ],
   "source": [
    "a = np.linspace(1,4,4) # 1 to 4, 4 elements\n",
    "\n",
    "print(a)\n",
    "print(a[1]) # Select element within 'a'\n",
    "\n",
    "z = int(a[1]) # Change element 1 from 'a' to an integer\n",
    "print(z)"
   ]
  },
  {
   "cell_type": "code",
   "execution_count": 23,
   "metadata": {},
   "outputs": [
    {
     "data": {
      "text/plain": [
       "int"
      ]
     },
     "execution_count": 23,
     "metadata": {},
     "output_type": "execute_result"
    }
   ],
   "source": [
    "type(a) # Check type\n",
    "type(z)"
   ]
  },
  {
   "cell_type": "code",
   "execution_count": 24,
   "metadata": {},
   "outputs": [
    {
     "data": {
      "text/plain": [
       "array([False,  True, False, False])"
      ]
     },
     "execution_count": 24,
     "metadata": {},
     "output_type": "execute_result"
    }
   ],
   "source": [
    "z == a # Check where z = a"
   ]
  },
  {
   "cell_type": "code",
   "execution_count": 38,
   "metadata": {},
   "outputs": [
    {
     "name": "stdout",
     "output_type": "stream",
     "text": [
      "0.479425538604203\n",
      "0.9033391107665127\n",
      "0.5463024898437905\n"
     ]
    }
   ],
   "source": [
    "pi = np.pi # Pi\n",
    "print(pi)\n",
    "\n",
    "e = np.e # Eulers number\n",
    "print(e)\n",
    "a = np.sin(1/2) # Sine\n",
    "print(a)\n",
    "\n",
    "b = np.arcsin(pi/4) # Arcsine\n",
    "print(b)\n",
    "\n",
    "c = np.tan(1/2) # Tangent\n",
    "print(c)"
   ]
  },
  {
   "cell_type": "code",
   "execution_count": null,
   "metadata": {},
   "outputs": [],
   "source": []
  }
 ],
 "metadata": {
  "kernelspec": {
   "display_name": "Python 3",
   "language": "python",
   "name": "python3"
  },
  "language_info": {
   "codemirror_mode": {
    "name": "ipython",
    "version": 3
   },
   "file_extension": ".py",
   "mimetype": "text/x-python",
   "name": "python",
   "nbconvert_exporter": "python",
   "pygments_lexer": "ipython3",
   "version": "3.8.5"
  }
 },
 "nbformat": 4,
 "nbformat_minor": 4
}
