{
 "cells": [
  {
   "cell_type": "markdown",
   "metadata": {},
   "source": [
    "## Linear Interpolation\n"
   ]
  },
  {
   "cell_type": "code",
   "execution_count": 1,
   "metadata": {},
   "outputs": [
    {
     "name": "stdout",
     "output_type": "stream",
     "text": [
      "72.00000000000003\n",
      "Help on function inter in module inter:\n",
      "\n",
      "inter(x, X, Y)\n",
      "    Inter performs linear interpolation between two (2) (x,y) coordinate pairs.\n",
      "    \n",
      "    Input:\n",
      "       Vector containing independent coordinates, X\n",
      "       Vector containing dependent coordinates, Y\n",
      "       Independent location between X(0) and X(1), x\n",
      "    \n",
      "    Output:\n",
      "        Location of y(x) between coordinate pair (X,Y)\n",
      "    \n",
      "    Syntax:\n",
      "        inter(x, X, Y)\n",
      "\n"
     ]
    }
   ],
   "source": [
    "from inter import inter\n",
    "X = [5, 6] # Sample x values\n",
    "Y = [20, 100] # Sample y values\n",
    "x = 5.65 # Point of interest\n",
    "\n",
    "mid = inter(x, X, Y) # Perform linear interpolation\n",
    "print(mid)\n"
   ]
  },
  {
   "cell_type": "code",
   "execution_count": 34,
   "metadata": {},
   "outputs": [
    {
     "name": "stdout",
     "output_type": "stream",
     "text": [
      "72.00000000000003\n"
     ]
    }
   ],
   "source": [
    "mid2 = inter(5.65, [5, 6], [20, 100]) # Same as above, except values are directly passed through function\n",
    "print(mid2)"
   ]
  },
  {
   "cell_type": "markdown",
   "metadata": {},
   "source": [
    "## Linear Least Squares Regression\n"
   ]
  },
  {
   "cell_type": "code",
   "execution_count": 33,
   "metadata": {},
   "outputs": [
    {
     "data": {
      "text/plain": [
       "Text(0.5, 1.0, 'Linear Least Squares Regression Model')"
      ]
     },
     "execution_count": 33,
     "metadata": {},
     "output_type": "execute_result"
    },
    {
     "data": {
      "image/png": "[encoded data removed]",
      "text/plain": [
       "<Figure size 432x288 with 1 Axes>"
      ]
     },
     "metadata": {
      "needs_background": "light"
     },
     "output_type": "display_data"
    }
   ],
   "source": [
    "from lsr import lsr\n",
    "import numpy as np\n",
    "import matplotlib.pyplot as plt\n",
    "\n",
    "x = np.linspace(1, 10, 10) # x-vector\n",
    "y = np.array([0, 5, 6, 2, 6, 8, 4, 2, 4, 9]) # \"Random\" y-vector\n",
    "\n",
    "m, b, R = lsr(x,y) # LSR of values\n",
    "\n",
    "# Plot:\n",
    "plt.figure(1)\n",
    "plt.plot(x,y,'bo', label = \"Data Model\")\n",
    "plt.plot(x,eq,'r-', label = \"Regression Line\")\n",
    "plt.grid(True)\n",
    "plt.xlabel('X')\n",
    "plt.ylabel('Y')\n",
    "plt.legend()\n",
    "plt.title(\"Linear Least Squares Regression Model\")"
   ]
  }
 ],
 "metadata": {
  "kernelspec": {
   "display_name": "Python 3",
   "language": "python",
   "name": "python3"
  },
  "language_info": {
   "codemirror_mode": {
    "name": "ipython",
    "version": 3
   },
   "file_extension": ".py",
   "mimetype": "text/x-python",
   "name": "python",
   "nbconvert_exporter": "python",
   "pygments_lexer": "ipython3",
   "version": "3.8.5"
  }
 },
 "nbformat": 4,
 "nbformat_minor": 4
}
